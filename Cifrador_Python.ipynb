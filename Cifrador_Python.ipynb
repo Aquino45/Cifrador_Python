{
  "nbformat": 4,
  "nbformat_minor": 0,
  "metadata": {
    "colab": {
      "provenance": [],
      "authorship_tag": "ABX9TyObM2hQSIj/q0ghuqtsKUPf",
      "include_colab_link": true
    },
    "kernelspec": {
      "name": "python3",
      "display_name": "Python 3"
    },
    "language_info": {
      "name": "python"
    }
  },
  "cells": [
    {
      "cell_type": "markdown",
      "metadata": {
        "id": "view-in-github",
        "colab_type": "text"
      },
      "source": [
        "<a href=\"https://colab.research.google.com/github/Aquino45/Cifrador_Python/blob/main/Cifrador_Python.ipynb\" target=\"_parent\"><img src=\"https://colab.research.google.com/assets/colab-badge.svg\" alt=\"Open In Colab\"/></a>"
      ]
    },
    {
      "cell_type": "code",
      "execution_count": 2,
      "metadata": {
        "colab": {
          "base_uri": "https://localhost:8080/"
        },
        "id": "xlY25-koyS8O",
        "outputId": "3abe8f53-4740-429c-a6e2-6dd40921851d"
      },
      "outputs": [
        {
          "output_type": "stream",
          "name": "stdout",
          "text": [
            "Número de tarjeta cifrado (AES): b'U\\x9bU\\x17\\xe7\\x86Q-\\xf1]b\\xabP\\xb3=x0\\xe4\\xf3'\n",
            "Clave AES cifrada con RSA: b'.W/\\x10Jw\\x93\\xa4`\\xa2\\xce\\xbe\\xd6\\xf4\\x84\\xcd\\xfb\\xdfW2\\x12:\\x81\\xad\\'\\xff\\x9b\\x80\\xbav\\xb8\\xa1\\xff\\x1c\\x141\\xb1\\x85q\\xd3\\xbf\\x00-k\\xf1\\xfbk\\xb4\\xcf\\xd1\\xcd\\x01\\x9cd\\xa0\\x1d\\xc0B\\xe2Z\\xc1_f\\xc5\\xb7\\xf3\\x81\\xa2[-\\x90\\r\\x81\\xe7(|\\xfc5\\x92;\\xea\\x15\\xe0\\x05\\x02t\\x03\\xc9\\n81\\x93\\xdc\\x03\\x95\\xb9\\xc9\\x1f\\xdaX\\x08\\xfd\\xb3T\\xcba\\x8e\\xefksm\\x91\\xdf\\x8f\\xe8D{l\\x12\\x96c\\xd8!w{,1\\xe9\\xe9Y\\xe2\\xef6;\\x96w\\xf7\\xb5\"\\xb8\\xeer\\x82\\xb0\\x0f\\xec4\\xa4*\\xd8I\\x82\\xe6>Q\\xb1\\x92\\x83\\xb3\\t\\xd1\\xa1\\xefSm\\x85\\xa5_\\x80W\\x1c\\x1d7R\\xa7.\\xe4#E\\xc2\\x8c\\x8c\\xde\\xf2\\x82J\\xe3!\\xe5\\xda\\xb6<\\xa3X\\x9e8\\xf0\\xab\\xa3<\\xc0p4R4\\x94;Uf\\xb3\\x7f\\xa6i(\\xcf\\x84\\xa2\\xf1z\\xaf\\xe8*\\x06\\xfc\\x9f\\xa2T\\x8c&\\x0b\\x14\\xd4\\xb8\\x8f8\\x8dCD\\xa1Tz[\\xa0\\x87\\x96\\xa9?>?\\x87_\\xcf\\xb2\\x90\\x938'\n",
            "Clave AES descifrada con RSA: b'\\xa2[\\xc4$\\x89\\x9c\\xb6\\x83CiQ\\xa4\\x1bS\\xe3;:Z\\xe8\\r\\xad\\x94Y\\xd6\\xb0\\x89>L\\x10\\x9d7a'\n",
            "Número de tarjeta de crédito descifrado: 1234 5678 9876 5432\n"
          ]
        }
      ],
      "source": [
        "from Crypto.PublicKey import RSA\n",
        "from Crypto.Cipher import AES\n",
        "from Crypto.Random import get_random_bytes\n",
        "import rsa\n",
        "\n",
        "def cifrar_aes(texto, clave_aes):\n",
        "    cipher = AES.new(clave_aes, AES.MODE_GCM)\n",
        "    ciphertext, tag = cipher.encrypt_and_digest(texto.encode())\n",
        "    return cipher.nonce, tag, ciphertext\n",
        "\n",
        "def descifrar_aes(nonce, tag, ciphertext, clave_aes):\n",
        "    cipher = AES.new(clave_aes, AES.MODE_GCM, nonce=nonce)\n",
        "    return cipher.decrypt_and_verify(ciphertext, tag).decode()\n",
        "\n",
        "def generar_claves_rsa():\n",
        "    public_key, private_key = rsa.newkeys(2048)\n",
        "    return public_key, private_key\n",
        "\n",
        "def cifrar_rsa(clave_publica, clave_aes):\n",
        "    return rsa.encrypt(clave_aes, clave_publica)\n",
        "\n",
        "def descifrar_rsa(clave_privada, clave_encriptada):\n",
        "    return rsa.decrypt(clave_encriptada, clave_privada)\n",
        "\n",
        "tarjeta_credito = \"1234 5678 9876 5432\"\n",
        "\n",
        "clave_aes = get_random_bytes(32)\n",
        "\n",
        "nonce, tag, ciphertext = cifrar_aes(tarjeta_credito, clave_aes)\n",
        "print(\"Número de tarjeta cifrado (AES):\", ciphertext)\n",
        "\n",
        "clave_publica, clave_privada = generar_claves_rsa()\n",
        "\n",
        "clave_aes_encriptada = cifrar_rsa(clave_publica, clave_aes)\n",
        "print(\"Clave AES cifrada con RSA:\", clave_aes_encriptada)\n",
        "\n",
        "clave_aes_descifrada = descifrar_rsa(clave_privada, clave_aes_encriptada)\n",
        "print(\"Clave AES descifrada con RSA:\", clave_aes_descifrada)\n",
        "\n",
        "tarjeta_descifrada = descifrar_aes(nonce, tag, ciphertext, clave_aes_descifrada)\n",
        "print(\"Número de tarjeta de crédito descifrado:\", tarjeta_descifrada)"
      ]
    }
  ]
}